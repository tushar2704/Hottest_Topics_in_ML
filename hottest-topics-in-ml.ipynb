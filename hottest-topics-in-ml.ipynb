{
 "cells": [
  {
   "cell_type": "markdown",
   "id": "df9c7435",
   "metadata": {
    "papermill": {
     "duration": 0.00981,
     "end_time": "2023-01-16T08:48:48.094221",
     "exception": false,
     "start_time": "2023-01-16T08:48:48.084411",
     "status": "completed"
    },
    "tags": []
   },
   "source": [
    "<div style=\"color:white;\n",
    "           display:fill;\n",
    "           border-radius:20px;\n",
    "           background-color:#F5DEB3;\n",
    "           font-size:180%;\n",
    "           font-family:Helvetica, Sans-Serif;\n",
    "           letter-spacing:0.5px\">\n",
    "<p style=\"padding: 10px;\n",
    "          text-align: center;\n",
    "          font-size:150%;\n",
    "          color:blue;\">\n",
    "           🌶️♨️💹Hottest Topics in ML🌶️♨️💹\n",
    "            \n",
    "</p>\n",
    "<style>\n",
    "        h1{text-align: center;}\n",
    " </style>  \n",
    "    \n",
    "</div>"
   ]
  },
  {
   "cell_type": "markdown",
   "id": "ad0d4ded",
   "metadata": {
    "papermill": {
     "duration": 0.005886,
     "end_time": "2023-01-16T08:48:48.107622",
     "exception": false,
     "start_time": "2023-01-16T08:48:48.101736",
     "status": "completed"
    },
    "tags": []
   },
   "source": [
    "<p style=\"font-family:cursive; font-size:25px; color:'darkcyan';\">I brewed this notebook from scratch, If this notebook helped, please consider upvoting and cite me if sharing ,Thank you!</p>\n",
    "\n",
    "\n",
    "<p style=\"width: 700px;padding: 20px;background: papayawhip;border-radius:10px;font-size:23px;font-size:23px;border-radius:20px\">\n",
    "    <a href=\"https://www.linkedin.com/in/tusharaggarwalinseec/\" target=\"_blank\">Lets connect on LinkedIn!</a>\n",
    "    \n",
    "   </p>\n",
    "<p style=\"width: 700px;padding: 20px;background: papayawhip;border-radius:10px;font-size:23px;border-radius:20px\">\n",
    "<a href=\"https://github.com/tushar2704\" target=\"_blank\">Follow me on Github too!</a> </p>\n",
    "\n",
    "<p style=\"width: 700px;padding: 20px;background: papayawhip;border-radius:10px;font-size:23px;border-radius:20px\">\n",
    "    <a href=\"https://medium.com/@tushar_aggarwal\" target=\"_blank\">Also checkout my Medium posts!</a>\n",
    "    \n",
    "   </p>"
   ]
  },
  {
   "cell_type": "markdown",
   "id": "e5043c92",
   "metadata": {
    "papermill": {
     "duration": 0.005838,
     "end_time": "2023-01-16T08:48:48.119730",
     "exception": false,
     "start_time": "2023-01-16T08:48:48.113892",
     "status": "completed"
    },
    "tags": []
   },
   "source": [
    "<div class=\"alert alert-info\" role=\"alert\" style=\"font-size:17px;border-radius:20px\">\n",
    "    <b>In this project, I am using Natural Language Processing on NIPS papers to uncover the trendiest topics in machine learning research,</b>\n",
    "    \n",
    "</div>\n",
    "<div class=\"alert alert-info\" role=\"alert\" style=\"font-size:15px;border-radius:20px\">\n",
    "    <b>Some things to note:</b>\n",
    "    <br><br>Neural Information Processing Systems (NIPS) is one of the top machine learning conferences in the world where groundbreaking work is published. \n",
    "    <br><br>\n",
    "    In this project, I am going to analyze a large collection of NIPS research papers from the past decade to discover the latest trends in machine learning.\n",
    "    <br><br>\n",
    "    The techniques used here to handle large amounts of data can be applied to other text datasets as well.\n",
    "</div>"
   ]
  },
  {
   "cell_type": "markdown",
   "id": "e8197646",
   "metadata": {
    "papermill": {
     "duration": 0.007193,
     "end_time": "2023-01-16T08:48:48.133275",
     "exception": false,
     "start_time": "2023-01-16T08:48:48.126082",
     "status": "completed"
    },
    "tags": []
   },
   "source": [
    "<p style=\"width: 700px;padding: 20px;background: papayawhip;border-radius:10px;font-size:17px;border-radius:20px\">Importing the required Libraries\n",
    "\n",
    " \n",
    "\n",
    "    \n",
    "   </p>"
   ]
  },
  {
   "cell_type": "code",
   "execution_count": 1,
   "id": "1682abb1",
   "metadata": {
    "execution": {
     "iopub.execute_input": "2023-01-16T08:48:48.148312Z",
     "iopub.status.busy": "2023-01-16T08:48:48.147665Z",
     "iopub.status.idle": "2023-01-16T08:48:49.480599Z",
     "shell.execute_reply": "2023-01-16T08:48:49.479311Z"
    },
    "papermill": {
     "duration": 1.344437,
     "end_time": "2023-01-16T08:48:49.483963",
     "exception": false,
     "start_time": "2023-01-16T08:48:48.139526",
     "status": "completed"
    },
    "tags": []
   },
   "outputs": [],
   "source": [
    "import pandas as pd\n",
    "import matplotlib.pyplot as plt\n",
    "%matplotlib inline\n",
    "import re\n",
    "import wordcloud\n",
    "from sklearn.feature_extraction.text import CountVectorizer\n",
    "import numpy as np\n",
    "import warnings\n",
    "warnings.simplefilter(\"ignore\", DeprecationWarning)\n",
    "from sklearn.decomposition import LatentDirichletAllocation as LDA"
   ]
  },
  {
   "cell_type": "markdown",
   "id": "1d6e8bda",
   "metadata": {
    "papermill": {
     "duration": 0.006508,
     "end_time": "2023-01-16T08:48:49.497296",
     "exception": false,
     "start_time": "2023-01-16T08:48:49.490788",
     "status": "completed"
    },
    "tags": []
   },
   "source": [
    "<div class=\"alert alert-info\" role=\"alert\" style=\"font-size:17px;border-radius:20px\">\n",
    "    <b>Loading the NIPS papers,</b>\n",
    "    \n",
    "</div>\n",
    "<div class=\"alert alert-info\" role=\"alert\" style=\"font-size:15px;border-radius:20px\">\n",
    "    <b>Some things to note:</b>\n",
    "    <br><br>The NIPS conference (Neural Information Processing Systems) is one of the most prestigious yearly events in the machine learning community. At each NIPS conference, a large number of research papers are published. Over 50,000 PDF files were automatically downloaded and processed to obtain a dataset on various machine learning techniques. These NIPS papers are stored in datasets/papers.csv. The CSV file contains information on the different NIPS papers that were published from 1987 until 2017 (30 years!). These papers discuss a wide variety of topics in machine learning, from neural networks to optimization methods and many more.\n",
    "    <br><br>\n",
    "    A research paper typically consists of a title, an abstract and the main text. Other data such as figures and tables were not extracted from the PDF files. Each paper discusses a novel technique or improvement. In this analysis, we will focus on analyzing these papers with natural language processing methods.\n",
    "</div>"
   ]
  },
  {
   "cell_type": "code",
   "execution_count": 2,
   "id": "909ab0ed",
   "metadata": {
    "execution": {
     "iopub.execute_input": "2023-01-16T08:48:49.514215Z",
     "iopub.status.busy": "2023-01-16T08:48:49.513098Z",
     "iopub.status.idle": "2023-01-16T08:48:54.474368Z",
     "shell.execute_reply": "2023-01-16T08:48:54.472894Z"
    },
    "papermill": {
     "duration": 4.972072,
     "end_time": "2023-01-16T08:48:54.476831",
     "exception": false,
     "start_time": "2023-01-16T08:48:49.504759",
     "status": "completed"
    },
    "tags": []
   },
   "outputs": [
    {
     "data": {
      "text/html": [
       "<div>\n",
       "<style scoped>\n",
       "    .dataframe tbody tr th:only-of-type {\n",
       "        vertical-align: middle;\n",
       "    }\n",
       "\n",
       "    .dataframe tbody tr th {\n",
       "        vertical-align: top;\n",
       "    }\n",
       "\n",
       "    .dataframe thead th {\n",
       "        text-align: right;\n",
       "    }\n",
       "</style>\n",
       "<table border=\"1\" class=\"dataframe\">\n",
       "  <thead>\n",
       "    <tr style=\"text-align: right;\">\n",
       "      <th></th>\n",
       "      <th>id</th>\n",
       "      <th>year</th>\n",
       "      <th>title</th>\n",
       "      <th>event_type</th>\n",
       "      <th>pdf_name</th>\n",
       "      <th>abstract</th>\n",
       "      <th>paper_text</th>\n",
       "    </tr>\n",
       "  </thead>\n",
       "  <tbody>\n",
       "    <tr>\n",
       "      <th>0</th>\n",
       "      <td>1</td>\n",
       "      <td>1987</td>\n",
       "      <td>Self-Organization of Associative Database and ...</td>\n",
       "      <td>NaN</td>\n",
       "      <td>1-self-organization-of-associative-database-an...</td>\n",
       "      <td>Abstract Missing</td>\n",
       "      <td>767\\n\\nSELF-ORGANIZATION OF ASSOCIATIVE DATABA...</td>\n",
       "    </tr>\n",
       "    <tr>\n",
       "      <th>1</th>\n",
       "      <td>10</td>\n",
       "      <td>1987</td>\n",
       "      <td>A Mean Field Theory of Layer IV of Visual Cort...</td>\n",
       "      <td>NaN</td>\n",
       "      <td>10-a-mean-field-theory-of-layer-iv-of-visual-c...</td>\n",
       "      <td>Abstract Missing</td>\n",
       "      <td>683\\n\\nA MEAN FIELD THEORY OF LAYER IV OF VISU...</td>\n",
       "    </tr>\n",
       "    <tr>\n",
       "      <th>2</th>\n",
       "      <td>100</td>\n",
       "      <td>1988</td>\n",
       "      <td>Storing Covariance by the Associative Long-Ter...</td>\n",
       "      <td>NaN</td>\n",
       "      <td>100-storing-covariance-by-the-associative-long...</td>\n",
       "      <td>Abstract Missing</td>\n",
       "      <td>394\\n\\nSTORING COVARIANCE BY THE ASSOCIATIVE\\n...</td>\n",
       "    </tr>\n",
       "    <tr>\n",
       "      <th>3</th>\n",
       "      <td>1000</td>\n",
       "      <td>1994</td>\n",
       "      <td>Bayesian Query Construction for Neural Network...</td>\n",
       "      <td>NaN</td>\n",
       "      <td>1000-bayesian-query-construction-for-neural-ne...</td>\n",
       "      <td>Abstract Missing</td>\n",
       "      <td>Bayesian Query Construction for Neural\\nNetwor...</td>\n",
       "    </tr>\n",
       "    <tr>\n",
       "      <th>4</th>\n",
       "      <td>1001</td>\n",
       "      <td>1994</td>\n",
       "      <td>Neural Network Ensembles, Cross Validation, an...</td>\n",
       "      <td>NaN</td>\n",
       "      <td>1001-neural-network-ensembles-cross-validation...</td>\n",
       "      <td>Abstract Missing</td>\n",
       "      <td>Neural Network Ensembles, Cross\\nValidation, a...</td>\n",
       "    </tr>\n",
       "  </tbody>\n",
       "</table>\n",
       "</div>"
      ],
      "text/plain": [
       "     id  year                                              title event_type  \\\n",
       "0     1  1987  Self-Organization of Associative Database and ...        NaN   \n",
       "1    10  1987  A Mean Field Theory of Layer IV of Visual Cort...        NaN   \n",
       "2   100  1988  Storing Covariance by the Associative Long-Ter...        NaN   \n",
       "3  1000  1994  Bayesian Query Construction for Neural Network...        NaN   \n",
       "4  1001  1994  Neural Network Ensembles, Cross Validation, an...        NaN   \n",
       "\n",
       "                                            pdf_name          abstract  \\\n",
       "0  1-self-organization-of-associative-database-an...  Abstract Missing   \n",
       "1  10-a-mean-field-theory-of-layer-iv-of-visual-c...  Abstract Missing   \n",
       "2  100-storing-covariance-by-the-associative-long...  Abstract Missing   \n",
       "3  1000-bayesian-query-construction-for-neural-ne...  Abstract Missing   \n",
       "4  1001-neural-network-ensembles-cross-validation...  Abstract Missing   \n",
       "\n",
       "                                          paper_text  \n",
       "0  767\\n\\nSELF-ORGANIZATION OF ASSOCIATIVE DATABA...  \n",
       "1  683\\n\\nA MEAN FIELD THEORY OF LAYER IV OF VISU...  \n",
       "2  394\\n\\nSTORING COVARIANCE BY THE ASSOCIATIVE\\n...  \n",
       "3  Bayesian Query Construction for Neural\\nNetwor...  \n",
       "4  Neural Network Ensembles, Cross\\nValidation, a...  "
      ]
     },
     "execution_count": 2,
     "metadata": {},
     "output_type": "execute_result"
    }
   ],
   "source": [
    "# Reading papers.csv into papers\n",
    "papers = pd.read_csv(\"/kaggle/input/nips-papers/papers.csv\")\n",
    "\n",
    "# Printing out the first rows of papers\n",
    "papers.head()"
   ]
  },
  {
   "cell_type": "markdown",
   "id": "08599b62",
   "metadata": {
    "papermill": {
     "duration": 0.008114,
     "end_time": "2023-01-16T08:48:54.491576",
     "exception": false,
     "start_time": "2023-01-16T08:48:54.483462",
     "status": "completed"
    },
    "tags": []
   },
   "source": [
    "<p style=\"width: 700px;padding: 20px;background: papayawhip;border-radius:10px;font-size:17px;border-radius:20px\">Preparing the data for analysis\n",
    "\n",
    " \n",
    "\n",
    "    \n",
    "   </p>"
   ]
  },
  {
   "cell_type": "markdown",
   "id": "35e20eb1",
   "metadata": {
    "papermill": {
     "duration": 0.006116,
     "end_time": "2023-01-16T08:48:54.504298",
     "exception": false,
     "start_time": "2023-01-16T08:48:54.498182",
     "status": "completed"
    },
    "tags": []
   },
   "source": [
    "<div class=\"alert alert-info\" role=\"alert\" style=\"font-size:15px;border-radius:20px\">\n",
    "   For the analysis of these papers, I will use the text data associated with the paper as well as the year the paper was published in.\n",
    "    <br><br>\n",
    "    Also I will analyze this text data using natural language processing. Since the file contains some metadata such as id's and filenames, it can be removed .\n",
    "</div>"
   ]
  },
  {
   "cell_type": "code",
   "execution_count": 3,
   "id": "b702e8a5",
   "metadata": {
    "execution": {
     "iopub.execute_input": "2023-01-16T08:48:54.518824Z",
     "iopub.status.busy": "2023-01-16T08:48:54.518403Z",
     "iopub.status.idle": "2023-01-16T08:48:54.539122Z",
     "shell.execute_reply": "2023-01-16T08:48:54.537853Z"
    },
    "papermill": {
     "duration": 0.030959,
     "end_time": "2023-01-16T08:48:54.541699",
     "exception": false,
     "start_time": "2023-01-16T08:48:54.510740",
     "status": "completed"
    },
    "tags": []
   },
   "outputs": [
    {
     "data": {
      "text/html": [
       "<div>\n",
       "<style scoped>\n",
       "    .dataframe tbody tr th:only-of-type {\n",
       "        vertical-align: middle;\n",
       "    }\n",
       "\n",
       "    .dataframe tbody tr th {\n",
       "        vertical-align: top;\n",
       "    }\n",
       "\n",
       "    .dataframe thead th {\n",
       "        text-align: right;\n",
       "    }\n",
       "</style>\n",
       "<table border=\"1\" class=\"dataframe\">\n",
       "  <thead>\n",
       "    <tr style=\"text-align: right;\">\n",
       "      <th></th>\n",
       "      <th>year</th>\n",
       "      <th>title</th>\n",
       "      <th>abstract</th>\n",
       "      <th>paper_text</th>\n",
       "    </tr>\n",
       "  </thead>\n",
       "  <tbody>\n",
       "    <tr>\n",
       "      <th>0</th>\n",
       "      <td>1987</td>\n",
       "      <td>Self-Organization of Associative Database and ...</td>\n",
       "      <td>Abstract Missing</td>\n",
       "      <td>767\\n\\nSELF-ORGANIZATION OF ASSOCIATIVE DATABA...</td>\n",
       "    </tr>\n",
       "    <tr>\n",
       "      <th>1</th>\n",
       "      <td>1987</td>\n",
       "      <td>A Mean Field Theory of Layer IV of Visual Cort...</td>\n",
       "      <td>Abstract Missing</td>\n",
       "      <td>683\\n\\nA MEAN FIELD THEORY OF LAYER IV OF VISU...</td>\n",
       "    </tr>\n",
       "    <tr>\n",
       "      <th>2</th>\n",
       "      <td>1988</td>\n",
       "      <td>Storing Covariance by the Associative Long-Ter...</td>\n",
       "      <td>Abstract Missing</td>\n",
       "      <td>394\\n\\nSTORING COVARIANCE BY THE ASSOCIATIVE\\n...</td>\n",
       "    </tr>\n",
       "    <tr>\n",
       "      <th>3</th>\n",
       "      <td>1994</td>\n",
       "      <td>Bayesian Query Construction for Neural Network...</td>\n",
       "      <td>Abstract Missing</td>\n",
       "      <td>Bayesian Query Construction for Neural\\nNetwor...</td>\n",
       "    </tr>\n",
       "    <tr>\n",
       "      <th>4</th>\n",
       "      <td>1994</td>\n",
       "      <td>Neural Network Ensembles, Cross Validation, an...</td>\n",
       "      <td>Abstract Missing</td>\n",
       "      <td>Neural Network Ensembles, Cross\\nValidation, a...</td>\n",
       "    </tr>\n",
       "  </tbody>\n",
       "</table>\n",
       "</div>"
      ],
      "text/plain": [
       "   year                                              title          abstract  \\\n",
       "0  1987  Self-Organization of Associative Database and ...  Abstract Missing   \n",
       "1  1987  A Mean Field Theory of Layer IV of Visual Cort...  Abstract Missing   \n",
       "2  1988  Storing Covariance by the Associative Long-Ter...  Abstract Missing   \n",
       "3  1994  Bayesian Query Construction for Neural Network...  Abstract Missing   \n",
       "4  1994  Neural Network Ensembles, Cross Validation, an...  Abstract Missing   \n",
       "\n",
       "                                          paper_text  \n",
       "0  767\\n\\nSELF-ORGANIZATION OF ASSOCIATIVE DATABA...  \n",
       "1  683\\n\\nA MEAN FIELD THEORY OF LAYER IV OF VISU...  \n",
       "2  394\\n\\nSTORING COVARIANCE BY THE ASSOCIATIVE\\n...  \n",
       "3  Bayesian Query Construction for Neural\\nNetwor...  \n",
       "4  Neural Network Ensembles, Cross\\nValidation, a...  "
      ]
     },
     "execution_count": 3,
     "metadata": {},
     "output_type": "execute_result"
    }
   ],
   "source": [
    "# Removing the columns\n",
    "papers.drop(['id','event_type','pdf_name'],axis=1,inplace=True)\n",
    "\n",
    "# Printing for checking the first rows of papers\n",
    "papers.head()"
   ]
  },
  {
   "cell_type": "markdown",
   "id": "41295a4b",
   "metadata": {
    "papermill": {
     "duration": 0.006469,
     "end_time": "2023-01-16T08:48:54.554990",
     "exception": false,
     "start_time": "2023-01-16T08:48:54.548521",
     "status": "completed"
    },
    "tags": []
   },
   "source": [
    "<p style=\"width: 700px;padding: 20px;background: papayawhip;border-radius:10px;font-size:17px;border-radius:20px\">Plotting how machine learning has evolved over time\n",
    "\n",
    "   </p>"
   ]
  },
  {
   "cell_type": "markdown",
   "id": "defff71d",
   "metadata": {
    "papermill": {
     "duration": 0.006347,
     "end_time": "2023-01-16T08:48:54.567958",
     "exception": false,
     "start_time": "2023-01-16T08:48:54.561611",
     "status": "completed"
    },
    "tags": []
   },
   "source": [
    "<div class=\"alert alert-info\" role=\"alert\" style=\"font-size:15px;border-radius:20px\">\n",
    "  Visualizing the number of publications per year.\n",
    "    <br><br>\n",
    "    From this I understood the extent of the machine learning 'revolution'!this significant increase in popularity is attributed to the large amounts of compute power, data and improvements in algorithms.\n",
    "</div>"
   ]
  },
  {
   "cell_type": "code",
   "execution_count": 4,
   "id": "8f401f9f",
   "metadata": {
    "execution": {
     "iopub.execute_input": "2023-01-16T08:48:54.583655Z",
     "iopub.status.busy": "2023-01-16T08:48:54.582811Z",
     "iopub.status.idle": "2023-01-16T08:48:54.978981Z",
     "shell.execute_reply": "2023-01-16T08:48:54.977583Z"
    },
    "papermill": {
     "duration": 0.407076,
     "end_time": "2023-01-16T08:48:54.981728",
     "exception": false,
     "start_time": "2023-01-16T08:48:54.574652",
     "status": "completed"
    },
    "tags": []
   },
   "outputs": [
    {
     "data": {
      "text/plain": [
       "<AxesSubplot:xlabel='year'>"
      ]
     },
     "execution_count": 4,
     "metadata": {},
     "output_type": "execute_result"
    },
    {
     "data": {
      "image/png": "[encoded data removed]",
      "text/plain": [
       "<Figure size 432x288 with 1 Axes>"
      ]
     },
     "metadata": {
      "needs_background": "light"
     },
     "output_type": "display_data"
    }
   ],
   "source": [
    "# Groupping the papers by year\n",
    "groups = papers.groupby('year')\n",
    "\n",
    "# Determining the size of each group\n",
    "counts = groups.size()\n",
    "\n",
    "# Visualising the counts as a bar plot\n",
    "counts.plot(kind='bar')"
   ]
  },
  {
   "cell_type": "markdown",
   "id": "e71a8f00",
   "metadata": {
    "papermill": {
     "duration": 0.006923,
     "end_time": "2023-01-16T08:48:54.996139",
     "exception": false,
     "start_time": "2023-01-16T08:48:54.989216",
     "status": "completed"
    },
    "tags": []
   },
   "source": [
    "<p style=\"width: 700px;padding: 20px;background: papayawhip;border-radius:10px;font-size:17px;border-radius:20px\">Preprocessing the text data\n",
    "\n",
    "   </p>"
   ]
  },
  {
   "cell_type": "markdown",
   "id": "447f84f3",
   "metadata": {
    "papermill": {
     "duration": 0.006935,
     "end_time": "2023-01-16T08:48:55.010787",
     "exception": false,
     "start_time": "2023-01-16T08:48:55.003852",
     "status": "completed"
    },
    "tags": []
   },
   "source": [
    "<div class=\"alert alert-info\" role=\"alert\" style=\"font-size:15px;border-radius:20px\">\n",
    "  Analyzing the titles of the different papers to identify machine learning trends\n",
    "    <br><br>\n",
    "    I am using regular expression(re) to remove any punctuation in the title, then performing lowercasing\n",
    "\n",
    "</div>"
   ]
  },
  {
   "cell_type": "code",
   "execution_count": 5,
   "id": "63d0338d",
   "metadata": {
    "execution": {
     "iopub.execute_input": "2023-01-16T08:48:55.026824Z",
     "iopub.status.busy": "2023-01-16T08:48:55.026410Z",
     "iopub.status.idle": "2023-01-16T08:48:55.058177Z",
     "shell.execute_reply": "2023-01-16T08:48:55.056273Z"
    },
    "papermill": {
     "duration": 0.04336,
     "end_time": "2023-01-16T08:48:55.061415",
     "exception": false,
     "start_time": "2023-01-16T08:48:55.018055",
     "status": "completed"
    },
    "tags": []
   },
   "outputs": [
    {
     "name": "stdout",
     "output_type": "stream",
     "text": [
      "0    Self-Organization of Associative Database and ...\n",
      "1    A Mean Field Theory of Layer IV of Visual Cort...\n",
      "2    Storing Covariance by the Associative Long-Ter...\n",
      "3    Bayesian Query Construction for Neural Network...\n",
      "4    Neural Network Ensembles, Cross Validation, an...\n",
      "Name: title, dtype: object\n"
     ]
    },
    {
     "data": {
      "text/plain": [
       "0    self-organization of associative database and ...\n",
       "1    a mean field theory of layer iv of visual cort...\n",
       "2    storing covariance by the associative long-ter...\n",
       "3    bayesian query construction for neural network...\n",
       "4    neural network ensembles cross validation and ...\n",
       "Name: title_processed, dtype: object"
      ]
     },
     "execution_count": 5,
     "metadata": {},
     "output_type": "execute_result"
    }
   ],
   "source": [
    "# Printing the titles of the first rows \n",
    "print(papers['title'].head())\n",
    "\n",
    "# Removing the punctuation\n",
    "papers['title_processed'] = papers['title'].map(lambda x: re.sub('[,\\.!?]', '', x))\n",
    "\n",
    "# Converting now the titles to lowercase\n",
    "papers['title_processed'] = papers['title_processed'].map(lambda x: x.lower())\n",
    "\n",
    "# Printing now the processed titles of the first rows \n",
    "papers['title_processed'].head()"
   ]
  },
  {
   "cell_type": "markdown",
   "id": "8f10e2a6",
   "metadata": {
    "papermill": {
     "duration": 0.007497,
     "end_time": "2023-01-16T08:48:55.076503",
     "exception": false,
     "start_time": "2023-01-16T08:48:55.069006",
     "status": "completed"
    },
    "tags": []
   },
   "source": [
    "<p style=\"width: 700px;padding: 20px;background: papayawhip;border-radius:10px;font-size:17px;border-radius:20px\">A word cloud to visualize the preprocessed text data\n",
    "\n",
    "   </p>"
   ]
  },
  {
   "cell_type": "markdown",
   "id": "ec006758",
   "metadata": {
    "papermill": {
     "duration": 0.007343,
     "end_time": "2023-01-16T08:48:55.091270",
     "exception": false,
     "start_time": "2023-01-16T08:48:55.083927",
     "status": "completed"
    },
    "tags": []
   },
   "source": [
    "<div class=\"alert alert-info\" role=\"alert\" style=\"font-size:15px;border-radius:20px\">\n",
    "    For most common words, using WordCloud\n",
    "   \n",
    "</div>"
   ]
  },
  {
   "cell_type": "code",
   "execution_count": 6,
   "id": "d83f3e3f",
   "metadata": {
    "execution": {
     "iopub.execute_input": "2023-01-16T08:48:55.109127Z",
     "iopub.status.busy": "2023-01-16T08:48:55.108136Z",
     "iopub.status.idle": "2023-01-16T08:48:55.770009Z",
     "shell.execute_reply": "2023-01-16T08:48:55.768493Z"
    },
    "papermill": {
     "duration": 0.673909,
     "end_time": "2023-01-16T08:48:55.772787",
     "exception": false,
     "start_time": "2023-01-16T08:48:55.098878",
     "status": "completed"
    },
    "tags": []
   },
   "outputs": [
    {
     "data": {
      "image/png": "[encoded data removed]",
      "text/plain": [
       "<PIL.Image.Image image mode=RGB size=400x200>"
      ]
     },
     "execution_count": 6,
     "metadata": {},
     "output_type": "execute_result"
    }
   ],
   "source": [
    "# Joining the different processed titles togetheras required by WordCloud\n",
    "long_string = ' '.join(papers['title_processed'])\n",
    "\n",
    "# Creating a WordCloud object, generate a wordcloud and visualising it\n",
    "wordcloud = wordcloud.WordCloud()\n",
    "\n",
    "# Generating a word cloud\n",
    "wordcloud.generate(long_string)\n",
    "\n",
    "# Visualizing the word cloud to see preprocessing\n",
    "wordcloud.to_image()"
   ]
  },
  {
   "cell_type": "markdown",
   "id": "f90de67a",
   "metadata": {
    "papermill": {
     "duration": 0.008696,
     "end_time": "2023-01-16T08:48:55.791171",
     "exception": false,
     "start_time": "2023-01-16T08:48:55.782475",
     "status": "completed"
    },
    "tags": []
   },
   "source": [
    "<p style=\"width: 700px;padding: 20px;background: papayawhip;border-radius:10px;font-size:17px;border-radius:20px\">Preparing the text for LDA analysis\n",
    "\n",
    "   </p>"
   ]
  },
  {
   "cell_type": "markdown",
   "id": "25438ad7",
   "metadata": {
    "papermill": {
     "duration": 0.008477,
     "end_time": "2023-01-16T08:48:55.808544",
     "exception": false,
     "start_time": "2023-01-16T08:48:55.800067",
     "status": "completed"
    },
    "tags": []
   },
   "source": [
    "<div class=\"alert alert-info\" role=\"alert\" style=\"font-size:15px;border-radius:20px\">\n",
    "The main text analysis method that I will be using the latent Dirichlet allocation (LDA). LDA is able to perform topic detection on large document sets, determining what the main 'topics' are in a large unlabeled set of texts. A 'topic' is a collection of words that tend to co-occur often. The hypothesis is that LDA might be able to clarify what the different topics in the research titles are. These topics can then be used as a starting point for further analysis.\n",
    "    <br><br>\n",
    "    LDA does not work directly on text data. First, it is necessary to convert the documents into a simple vector representation. This representation will then be used by LDA to determine the topics. Each entry of a 'document vector' will correspond with the number of times a word occurred in the document. In conclusion, we will convert a list of titles into a list of vectors, all with length equal to the vocabulary. So, for Analyzing machine learning trends with neural networks.' would be transformed into [1, 0, 1, ..., 1, 0].\n",
    "    <br><br>\n",
    "   I will then plot the 10 most common words based on the outcome of this operation (the list of document vectors). As a check, these words should also occur in the word cloud.\n",
    "   \n",
    "</div>"
   ]
  },
  {
   "cell_type": "code",
   "execution_count": 7,
   "id": "ac08e40e",
   "metadata": {
    "execution": {
     "iopub.execute_input": "2023-01-16T08:48:55.828201Z",
     "iopub.status.busy": "2023-01-16T08:48:55.827751Z",
     "iopub.status.idle": "2023-01-16T08:48:56.556814Z",
     "shell.execute_reply": "2023-01-16T08:48:56.555221Z"
    },
    "papermill": {
     "duration": 0.742394,
     "end_time": "2023-01-16T08:48:56.559889",
     "exception": false,
     "start_time": "2023-01-16T08:48:55.817495",
     "status": "completed"
    },
    "tags": []
   },
   "outputs": [
    {
     "name": "stderr",
     "output_type": "stream",
     "text": [
      "/opt/conda/lib/python3.7/site-packages/sklearn/utils/deprecation.py:87: FutureWarning: Function get_feature_names is deprecated; get_feature_names is deprecated in 1.0 and will be removed in 1.2. Please use get_feature_names_out instead.\n",
      "  warnings.warn(msg, category=FutureWarning)\n"
     ]
    },
    {
     "data": {
      "image/png": "[encoded data removed]",
      "text/plain": [
       "<Figure size 432x288 with 1 Axes>"
      ]
     },
     "metadata": {
      "needs_background": "light"
     },
     "output_type": "display_data"
    }
   ],
   "source": [
    "# Defining the Helper function\n",
    "def plot_10_most_common_words(count_data, count_vectorizer):\n",
    "    import matplotlib.pyplot as plt\n",
    "    words = count_vectorizer.get_feature_names()\n",
    "    total_counts = np.zeros(len(words))\n",
    "    for t in count_data:\n",
    "        total_counts+=t.toarray()[0]\n",
    "    \n",
    "    count_dict = (zip(words, total_counts))\n",
    "    count_dict = sorted(count_dict, key=lambda x:x[1], reverse=True)[0:10]\n",
    "    words = [w[0] for w in count_dict]\n",
    "    counts = [w[1] for w in count_dict]\n",
    "    x_pos = np.arange(len(words)) \n",
    "\n",
    "    plt.bar(x_pos, counts,align='center')\n",
    "    plt.xticks(x_pos, words, rotation=90) \n",
    "    plt.xlabel('words')\n",
    "    plt.ylabel('counts')\n",
    "    plt.title('10 most common words')\n",
    "    plt.show()\n",
    "\n",
    "# Initialising the count vectorizer with the English stop words\n",
    "count_vectorizer = CountVectorizer(stop_words='english')\n",
    "\n",
    "# Fitting and transformin the processed titles\n",
    "count_data = count_vectorizer.fit_transform(papers['title_processed'])\n",
    "\n",
    "# Visualising now the 10 most common words\n",
    "plot_10_most_common_words(count_data, count_vectorizer)"
   ]
  },
  {
   "cell_type": "markdown",
   "id": "92d8ea2d",
   "metadata": {
    "papermill": {
     "duration": 0.009102,
     "end_time": "2023-01-16T08:48:56.578528",
     "exception": false,
     "start_time": "2023-01-16T08:48:56.569426",
     "status": "completed"
    },
    "tags": []
   },
   "source": [
    "<p style=\"width: 700px;padding: 20px;background: papayawhip;border-radius:10px;font-size:17px;border-radius:20px\">Now, Analysing trends with LDA\n",
    "\n",
    "   </p>"
   ]
  },
  {
   "cell_type": "markdown",
   "id": "f1128652",
   "metadata": {
    "papermill": {
     "duration": 0.008944,
     "end_time": "2023-01-16T08:48:56.596911",
     "exception": false,
     "start_time": "2023-01-16T08:48:56.587967",
     "status": "completed"
    },
    "tags": []
   },
   "source": [
    "<div class=\"alert alert-info\" role=\"alert\" style=\"font-size:15px;border-radius:20px\">\n",
    "The research titles, I will be analyzing using LDA. Note that in order to process a new set of documents (e.g. news articles), a similar set of steps will be required to preprocess the data. The flow that was constructed here can thus easily be exported for a new text dataset.\n",
    "    <br><br>\n",
    "    The only parameter that needs tweaking is the number of topics in the LDA algorithm. Typically, one would calculate the 'perplexity' metric to determine which number of topics is best and iterate over different amounts of topics until the lowest 'perplexity' is found. For now, trying with a different number of topics. From there, I can distinguish what each topic is about ('neural networks', 'reinforcement learning', 'kernel methods', 'gaussian processes', etc.).\n",
    "   </div>"
   ]
  },
  {
   "cell_type": "code",
   "execution_count": 8,
   "id": "f8e9eade",
   "metadata": {
    "execution": {
     "iopub.execute_input": "2023-01-16T08:48:56.617293Z",
     "iopub.status.busy": "2023-01-16T08:48:56.616862Z",
     "iopub.status.idle": "2023-01-16T08:49:07.573391Z",
     "shell.execute_reply": "2023-01-16T08:49:07.570900Z"
    },
    "papermill": {
     "duration": 10.970616,
     "end_time": "2023-01-16T08:49:07.576788",
     "exception": false,
     "start_time": "2023-01-16T08:48:56.606172",
     "status": "completed"
    },
    "tags": []
   },
   "outputs": [
    {
     "name": "stdout",
     "output_type": "stream",
     "text": [
      "Topics found via LDA:\n",
      "\n",
      "Topic #0:\n",
      "neural networks learning network recurrent reinforcement control dynamics systems neurons\n",
      "\n",
      "Topic #1:\n",
      "learning model bayesian using models sparse estimation classification density object\n",
      "\n",
      "Topic #2:\n",
      "learning using fast supervised gradient network classification semi model stochastic\n",
      "\n",
      "Topic #3:\n",
      "inference learning models variational bayesian order data probabilistic online information\n",
      "\n",
      "Topic #4:\n",
      "hierarchical image model images bayesian learning visual hidden process dirichlet\n",
      "\n",
      "Topic #5:\n",
      "gaussian optimization analysis learning processes models clustering high dimensional convex\n",
      "\n",
      "Topic #6:\n",
      "recognition using kernel speech information learning estimation clustering based regularization\n",
      "\n",
      "Topic #7:\n",
      "regression vector machines boosting selection support convergence carlo monte kernel\n",
      "\n",
      "Topic #8:\n",
      "learning models networks deep multi neural training generative task using\n",
      "\n",
      "Topic #9:\n",
      "learning prediction based algorithms policy optimization model using bandits value\n"
     ]
    }
   ],
   "source": [
    "#Defining the Helper function\n",
    "def print_topics(model, count_vectorizer, n_top_words):\n",
    "    words = count_vectorizer.get_feature_names()\n",
    "    for topic_idx, topic in enumerate(model.components_):\n",
    "        print(\"\\nTopic #%d:\" % topic_idx)\n",
    "        print(\" \".join([words[i]\n",
    "                        for i in topic.argsort()[:-n_top_words - 1:-1]]))\n",
    "        \n",
    "# Tweaking the two parameters below (use int values below 15)\n",
    "number_topics = 10\n",
    "number_words = 10\n",
    "\n",
    "# Creating and fitting the LDA model\n",
    "lda = LDA(n_components=number_topics)\n",
    "lda.fit(count_data)\n",
    "\n",
    "# Printing the topics found by the LDA model\n",
    "print(\"Topics found via LDA:\")\n",
    "print_topics(lda, count_vectorizer, number_words)"
   ]
  },
  {
   "cell_type": "markdown",
   "id": "6849bdba",
   "metadata": {
    "papermill": {
     "duration": 0.009246,
     "end_time": "2023-01-16T08:49:07.595708",
     "exception": false,
     "start_time": "2023-01-16T08:49:07.586462",
     "status": "completed"
    },
    "tags": []
   },
   "source": [
    "<p style=\"width: 700px;padding: 20px;background: papayawhip;border-radius:10px;font-size:17px;border-radius:20px\">The future of machine learning starts with these papers\n",
    "\n",
    "   </p>"
   ]
  },
  {
   "cell_type": "markdown",
   "id": "0b79b340",
   "metadata": {
    "papermill": {
     "duration": 0.009198,
     "end_time": "2023-01-16T08:49:07.614364",
     "exception": false,
     "start_time": "2023-01-16T08:49:07.605166",
     "status": "completed"
    },
    "tags": []
   },
   "source": [
    "<div class=\"alert alert-info\" role=\"alert\" style=\"font-size:15px;border-radius:20px\">\n",
    "Machine learning has become increasingly popular over the past years. The number of NIPS conference papers has risen exponentially, and people are continuously looking for ways on how they can incorporate machine learning into their products and services.\n",
    "    <br><br>\n",
    "    Although this analysis focused on analyzing machine learning trends in research, a lot of these techniques are rapidly being adopted in industry.\n",
    "   </div>"
   ]
  },
  {
   "cell_type": "markdown",
   "id": "e32d0cc2",
   "metadata": {
    "papermill": {
     "duration": 0.009118,
     "end_time": "2023-01-16T08:49:07.633058",
     "exception": false,
     "start_time": "2023-01-16T08:49:07.623940",
     "status": "completed"
    },
    "tags": []
   },
   "source": [
    "<p style=\"font-family:cursive; font-size:25px; color:'darkcyan';\">I brewed this notebook from scratch, If this notebook helped, please consider upvoting and cite me if sharing ,Thank you!</p>\n",
    "​\n",
    "​\n",
    "<p style=\"width: 700px;padding: 20px;background: papayawhip;border-radius:10px;font-size:23px;font-size:23px;border-radius:20px\">\n",
    "    <a href=\"https://www.linkedin.com/in/tusharaggarwalinseec/\" target=\"_blank\">Lets connect on LinkedIn!</a>\n",
    "    \n",
    "   </p>\n",
    "<p style=\"width: 700px;padding: 20px;background: papayawhip;border-radius:10px;font-size:23px;border-radius:20px\">\n",
    "<a href=\"https://github.com/tushar2704\" target=\"_blank\">Follow me on Github too!</a> </p>\n",
    "​\n",
    "<p style=\"width: 700px;padding: 20px;background: papayawhip;border-radius:10px;font-size:23px;border-radius:20px\">\n",
    "    <a href=\"https://medium.com/@tushar_aggarwal\" target=\"_blank\">Also checkout my Medium posts!</a>\n",
    "    \n",
    "   </p>"
   ]
  }
 ],
 "metadata": {
  "kernelspec": {
   "display_name": "Python 3",
   "language": "python",
   "name": "python3"
  },
  "language_info": {
   "codemirror_mode": {
    "name": "ipython",
    "version": 3
   },
   "file_extension": ".py",
   "mimetype": "text/x-python",
   "name": "python",
   "nbconvert_exporter": "python",
   "pygments_lexer": "ipython3",
   "version": "3.7.12"
  },
  "papermill": {
   "default_parameters": {},
   "duration": 29.460275,
   "end_time": "2023-01-16T08:49:08.465560",
   "environment_variables": {},
   "exception": null,
   "input_path": "__notebook__.ipynb",
   "output_path": "__notebook__.ipynb",
   "parameters": {},
   "start_time": "2023-01-16T08:48:39.005285",
   "version": "2.3.4"
  }
 },
 "nbformat": 4,
 "nbformat_minor": 5
}
